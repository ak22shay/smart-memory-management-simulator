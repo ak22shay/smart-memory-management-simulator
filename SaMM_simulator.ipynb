{
 "cells": [
  {
   "cell_type": "markdown",
   "id": "c82d435d",
   "metadata": {},
   "source": [
    "# Useful imports"
   ]
  },
  {
   "cell_type": "code",
   "execution_count": 30,
   "id": "f5abe6fb",
   "metadata": {},
   "outputs": [],
   "source": [
    "import collections\n",
    "import colorama\n",
    "from colorama import Fore\n",
    "from texttable import Texttable\n",
    "import random, string"
   ]
  },
  {
   "cell_type": "code",
   "execution_count": 31,
   "id": "d6ff35c1",
   "metadata": {},
   "outputs": [],
   "source": [
    "processes =[]"
   ]
  },
  {
   "cell_type": "markdown",
   "id": "b3583168",
   "metadata": {},
   "source": [
    "# Supporting memory functions"
   ]
  },
  {
   "cell_type": "markdown",
   "id": "7dd9f781",
   "metadata": {},
   "source": [
    "### 1. Smart Memory Management (SaMM) class with functions"
   ]
  },
  {
   "cell_type": "code",
   "execution_count": 32,
   "id": "84bf8d61",
   "metadata": {},
   "outputs": [],
   "source": [
    "class SaMM():\n",
    "    \n",
    "    def __init__(self, memory_size, processes):\n",
    "        self.memory = [0 for i in range(memory_size)]\n",
    "        self.free_mem = [[0,len(self.memory)-1]]\n",
    "        self.allocated_memory = dict()\n",
    "        self.processes =processes.copy()\n",
    "\n",
    "    def allocate_process(self,p):\n",
    "        name = p[0]\n",
    "        process_len = p[1]\n",
    "        for fm in self.free_mem:\n",
    "            if fm[1]-fm[0]>= process_len:\n",
    "                self.allocated_memory[name] = (fm[0],fm[0]+process_len-1)\n",
    "                for s in range(fm[0],fm[0]+process_len):\n",
    "                    self.memory[s]=name\n",
    "                fm[0]=fm[0]+process_len\n",
    "                return True\n",
    "        return False\n",
    "    \n",
    "    def process_allocation(self):\n",
    "        temp=[]\n",
    "        process_count = len(self.processes)\n",
    "        for process in self.processes:\n",
    "            if self.allocate_process(process):\n",
    "                temp.append(process)\n",
    "        for i in temp:\n",
    "            self.processes.remove(i)\n",
    "\n",
    "        #print=============    \n",
    "        print(len(temp),\" process(es) out of \",process_count,\" are allocated into the memory successfully\\n\")\n",
    "        print(\"Current process queue:\")\n",
    "        if len(self.processes)==0:\n",
    "            print(\"Process queue is empty (All processes are allocated)\")\n",
    "        else:\n",
    "            for process in self.processes:\n",
    "                print(process, end=\" \")\n",
    "        print(\"\\n\")\n",
    "        #==================\n",
    "        \n",
    "    def get_memory_status(self):\n",
    "        print(\"Current process queue:\")\n",
    "        if len(self.processes)==0:\n",
    "            print(\"Process queue is empty (All processes are allocated)\")\n",
    "        else:\n",
    "            for process in self.processes:\n",
    "                print(process, end=\" \")\n",
    "        print(\"\\n\")\n",
    "        \n",
    "        print(\"Memory:\")\n",
    "        print(\"|\", end=\"\")\n",
    "        for i in self.memory:\n",
    "            print(i,\"|\",end=\"\")\n",
    "        print(\"\\n\")\n",
    "\n",
    "        print(\"Allocated memory: \")\n",
    "        print(\"Process ID\\t\",\"Start index\\t\",\"End index\\t\",\"Size\")\n",
    "        for p in self.allocated_memory:\n",
    "            size = self.allocated_memory[p][1]-self.allocated_memory[p][0]+1\n",
    "            print(p,\"\\t\\t\",self.allocated_memory[p][0],\"\\t\\t\",self.allocated_memory[p][1],\"\\t\\t\",size,\"K\")\n",
    "        print(\"\\n\")\n",
    "\n",
    "        print(\"Free memory: \")\n",
    "        print(\"Start index\\t\",\"End index\")\n",
    "        for fm in self.free_mem:\n",
    "            size = fm[1]-fm[0]+1\n",
    "            print(fm[0],\"\\t\\t\",fm[1],\"\\t\\t\",size,\"K\")\n",
    "    \n",
    "    \n",
    "    def deallocate_process(self,p):\n",
    "        if self.allocated_memory.get(p):\n",
    "            start, end = self.allocated_memory[p]\n",
    "            for i,fm in enumerate(self.free_mem):\n",
    "                if end <= fm[0]:\n",
    "                    self.free_mem.insert(i,[start, end])\n",
    "                    break\n",
    "            for i in range(start,end+1):\n",
    "                self.memory[i]=0     \n",
    "            del self.allocated_memory[p]\n",
    "            self.adjust_free_memory()\n",
    "            print(\"Process: \",p,\" is deallocated successfully\")\n",
    "        else:\n",
    "            print(\"Process: \",p,\" does not exist\")\n",
    "\n",
    "    \n",
    "    def adjust_free_memory(self):\n",
    "        temp = []\n",
    "        if len(self.free_mem)>1:\n",
    "            prev_start,prev_end = self.free_mem[0]\n",
    "            for fm in range(1,len(self.free_mem)):\n",
    "                if self.free_mem[fm][0]-1 == prev_end:\n",
    "                    temp.append(self.free_mem[fm-1])\n",
    "                    self.free_mem[fm][0]=prev_start\n",
    "                prev_start = self.free_mem[fm][0]\n",
    "                prev_end = self.free_mem[fm][1]\n",
    "        for i in temp:\n",
    "            self.free_mem.remove(i)\n",
    "        \n",
    "    \n",
    "    def shift_memory(self,strt_idx, no_ele, shft_idx):\n",
    "        for i in range(no_ele):\n",
    "            self.memory[strt_idx+i], self.memory[shft_idx+i] = self.memory[shft_idx+i], self.memory[strt_idx+i]\n",
    "\n",
    "        \n",
    "    def defragment(self):\n",
    "        fm_start,fm_end = self.free_mem[0]\n",
    "        for p in self.allocated_memory:\n",
    "            p_start, p_end = self.allocated_memory[p]\n",
    "            p_len = p_end - p_start + 1\n",
    "            if p_start-1 > 0 and self.memory[p_start-1]==0:\n",
    "                self.shift_memory(p_start, p_len, fm_start)\n",
    "                self.allocated_memory[p] = (fm_start, fm_start + p_len - 1)\n",
    "                fm_start = fm_start + p_len\n",
    "        self.free_mem.clear()\n",
    "        self.free_mem.append([fm_start,len(self.memory)-1])   \n",
    "        \n",
    "        print(\"Defragmentation is performed successfully...!\\n\")\n",
    "        print(\"Continuous free space created: \",len(self.memory)-fm_start+1)\n",
    "    "
   ]
  },
  {
   "cell_type": "markdown",
   "id": "8700f68e",
   "metadata": {},
   "source": [
    "### 2. Function for generating random processes for the execution"
   ]
  },
  {
   "cell_type": "code",
   "execution_count": 33,
   "id": "21f23cb0",
   "metadata": {},
   "outputs": [],
   "source": [
    "def input_processes(n):  \n",
    "    processes.clear()\n",
    "    PID_exist =set()\n",
    "\n",
    "    def generate_process():\n",
    "        # generate random process ID\n",
    "        PID=random.randint(1000,9999)\n",
    "        PID = \"P\"+str(PID)\n",
    "        while PID in PID_exist:\n",
    "            PID=random.randint(1000,9999)\n",
    "            PID = \"P\"+str(PID)\n",
    "        PID_exist.add(PID)\n",
    "        # generate random process length\n",
    "        PLEN=random.randint(1,100)\n",
    "        return PID,PLEN\n",
    "    \n",
    "    for i in range(n):\n",
    "        PID,PLEN =generate_process()\n",
    "        processes.append((PID,PLEN))\n",
    "        \n",
    "    print(\"New created processes:\")\n",
    "    print(\"Process ID\\t\",\"Process length\")\n",
    "    for p in processes:\n",
    "        print(p[0],\"\\t\\t\",p[1])"
   ]
  },
  {
   "cell_type": "markdown",
   "id": "68466bf2",
   "metadata": {},
   "source": [
    "# Generating input processes\n",
    "input_processes(N), where N is number of random processes you want to create.\n",
    "Below function generates process randomly every time it is called.\n",
    "You can run the same function multiple times to ensure different results every time."
   ]
  },
  {
   "cell_type": "code",
   "execution_count": 34,
   "id": "c438ae2d",
   "metadata": {
    "scrolled": true
   },
   "outputs": [
    {
     "name": "stdout",
     "output_type": "stream",
     "text": [
      "New created processes:\n",
      "Process ID\t Process length\n",
      "P5023 \t\t 61\n",
      "P7711 \t\t 83\n",
      "P5160 \t\t 66\n",
      "P6689 \t\t 68\n",
      "P9560 \t\t 15\n",
      "P2656 \t\t 6\n",
      "P9514 \t\t 57\n",
      "P5640 \t\t 45\n"
     ]
    }
   ],
   "source": [
    "input_processes(8) # changing the input number will update the number of processes everytime"
   ]
  },
  {
   "cell_type": "markdown",
   "id": "f3f87510",
   "metadata": {},
   "source": [
    "# Instantiate the SaMM class\n",
    "class SaMM(Memory_Size, Processes)"
   ]
  },
  {
   "cell_type": "code",
   "execution_count": 35,
   "id": "45eb5331",
   "metadata": {},
   "outputs": [],
   "source": [
    "MMU = SaMM(256, processes) #SaMM(Memory_Size, Processes)"
   ]
  },
  {
   "cell_type": "markdown",
   "id": "a3b7e327",
   "metadata": {},
   "source": [
    "## Initial snapshot of memory status\n",
    "to get the snapshot of current memory status"
   ]
  },
  {
   "cell_type": "code",
   "execution_count": 36,
   "id": "c914a443",
   "metadata": {},
   "outputs": [
    {
     "name": "stdout",
     "output_type": "stream",
     "text": [
      "Current process queue:\n",
      "('P5023', 61) ('P7711', 83) ('P5160', 66) ('P6689', 68) ('P9560', 15) ('P2656', 6) ('P9514', 57) ('P5640', 45) \n",
      "\n",
      "Memory:\n",
      "|0 |0 |0 |0 |0 |0 |0 |0 |0 |0 |0 |0 |0 |0 |0 |0 |0 |0 |0 |0 |0 |0 |0 |0 |0 |0 |0 |0 |0 |0 |0 |0 |0 |0 |0 |0 |0 |0 |0 |0 |0 |0 |0 |0 |0 |0 |0 |0 |0 |0 |0 |0 |0 |0 |0 |0 |0 |0 |0 |0 |0 |0 |0 |0 |0 |0 |0 |0 |0 |0 |0 |0 |0 |0 |0 |0 |0 |0 |0 |0 |0 |0 |0 |0 |0 |0 |0 |0 |0 |0 |0 |0 |0 |0 |0 |0 |0 |0 |0 |0 |0 |0 |0 |0 |0 |0 |0 |0 |0 |0 |0 |0 |0 |0 |0 |0 |0 |0 |0 |0 |0 |0 |0 |0 |0 |0 |0 |0 |0 |0 |0 |0 |0 |0 |0 |0 |0 |0 |0 |0 |0 |0 |0 |0 |0 |0 |0 |0 |0 |0 |0 |0 |0 |0 |0 |0 |0 |0 |0 |0 |0 |0 |0 |0 |0 |0 |0 |0 |0 |0 |0 |0 |0 |0 |0 |0 |0 |0 |0 |0 |0 |0 |0 |0 |0 |0 |0 |0 |0 |0 |0 |0 |0 |0 |0 |0 |0 |0 |0 |0 |0 |0 |0 |0 |0 |0 |0 |0 |0 |0 |0 |0 |0 |0 |0 |0 |0 |0 |0 |0 |0 |0 |0 |0 |0 |0 |0 |0 |0 |0 |0 |0 |0 |0 |0 |0 |0 |0 |0 |0 |0 |0 |0 |0 |0 |0 |0 |0 |0 |0 |0 |0 |0 |0 |0 |0 |\n",
      "\n",
      "Allocated memory: \n",
      "Process ID\t Start index\t End index\t Size\n",
      "\n",
      "\n",
      "Free memory: \n",
      "Start index\t End index\n",
      "0 \t\t 255 \t\t 256 K\n"
     ]
    }
   ],
   "source": [
    "MMU.get_memory_status() # to get the snapshot of current memory status"
   ]
  },
  {
   "cell_type": "markdown",
   "id": "4bfda01a",
   "metadata": {},
   "source": [
    "# Inplementing SaMM algorithms"
   ]
  },
  {
   "cell_type": "markdown",
   "id": "691b795c",
   "metadata": {},
   "source": [
    "## 1. Memory Allocation\n",
    "Allocates the process in the memory"
   ]
  },
  {
   "cell_type": "code",
   "execution_count": 37,
   "id": "81cfd243",
   "metadata": {},
   "outputs": [
    {
     "name": "stdout",
     "output_type": "stream",
     "text": [
      "5  process(es) out of  8  are allocated into the memory successfully\n",
      "\n",
      "Current process queue:\n",
      "('P6689', 68) ('P9514', 57) ('P5640', 45) \n",
      "\n"
     ]
    }
   ],
   "source": [
    "MMU.process_allocation() # Allocates the process in the memory"
   ]
  },
  {
   "cell_type": "code",
   "execution_count": 38,
   "id": "f68ee059",
   "metadata": {},
   "outputs": [
    {
     "name": "stdout",
     "output_type": "stream",
     "text": [
      "Current process queue:\n",
      "('P6689', 68) ('P9514', 57) ('P5640', 45) \n",
      "\n",
      "Memory:\n",
      "|P5023 |P5023 |P5023 |P5023 |P5023 |P5023 |P5023 |P5023 |P5023 |P5023 |P5023 |P5023 |P5023 |P5023 |P5023 |P5023 |P5023 |P5023 |P5023 |P5023 |P5023 |P5023 |P5023 |P5023 |P5023 |P5023 |P5023 |P5023 |P5023 |P5023 |P5023 |P5023 |P5023 |P5023 |P5023 |P5023 |P5023 |P5023 |P5023 |P5023 |P5023 |P5023 |P5023 |P5023 |P5023 |P5023 |P5023 |P5023 |P5023 |P5023 |P5023 |P5023 |P5023 |P5023 |P5023 |P5023 |P5023 |P5023 |P5023 |P5023 |P5023 |P7711 |P7711 |P7711 |P7711 |P7711 |P7711 |P7711 |P7711 |P7711 |P7711 |P7711 |P7711 |P7711 |P7711 |P7711 |P7711 |P7711 |P7711 |P7711 |P7711 |P7711 |P7711 |P7711 |P7711 |P7711 |P7711 |P7711 |P7711 |P7711 |P7711 |P7711 |P7711 |P7711 |P7711 |P7711 |P7711 |P7711 |P7711 |P7711 |P7711 |P7711 |P7711 |P7711 |P7711 |P7711 |P7711 |P7711 |P7711 |P7711 |P7711 |P7711 |P7711 |P7711 |P7711 |P7711 |P7711 |P7711 |P7711 |P7711 |P7711 |P7711 |P7711 |P7711 |P7711 |P7711 |P7711 |P7711 |P7711 |P7711 |P7711 |P7711 |P7711 |P7711 |P7711 |P7711 |P7711 |P7711 |P7711 |P7711 |P7711 |P7711 |P7711 |P7711 |P5160 |P5160 |P5160 |P5160 |P5160 |P5160 |P5160 |P5160 |P5160 |P5160 |P5160 |P5160 |P5160 |P5160 |P5160 |P5160 |P5160 |P5160 |P5160 |P5160 |P5160 |P5160 |P5160 |P5160 |P5160 |P5160 |P5160 |P5160 |P5160 |P5160 |P5160 |P5160 |P5160 |P5160 |P5160 |P5160 |P5160 |P5160 |P5160 |P5160 |P5160 |P5160 |P5160 |P5160 |P5160 |P5160 |P5160 |P5160 |P5160 |P5160 |P5160 |P5160 |P5160 |P5160 |P5160 |P5160 |P5160 |P5160 |P5160 |P5160 |P5160 |P5160 |P5160 |P5160 |P5160 |P5160 |P9560 |P9560 |P9560 |P9560 |P9560 |P9560 |P9560 |P9560 |P9560 |P9560 |P9560 |P9560 |P9560 |P9560 |P9560 |P2656 |P2656 |P2656 |P2656 |P2656 |P2656 |0 |0 |0 |0 |0 |0 |0 |0 |0 |0 |0 |0 |0 |0 |0 |0 |0 |0 |0 |0 |0 |0 |0 |0 |0 |\n",
      "\n",
      "Allocated memory: \n",
      "Process ID\t Start index\t End index\t Size\n",
      "P5023 \t\t 0 \t\t 60 \t\t 61 K\n",
      "P7711 \t\t 61 \t\t 143 \t\t 83 K\n",
      "P5160 \t\t 144 \t\t 209 \t\t 66 K\n",
      "P9560 \t\t 210 \t\t 224 \t\t 15 K\n",
      "P2656 \t\t 225 \t\t 230 \t\t 6 K\n",
      "\n",
      "\n",
      "Free memory: \n",
      "Start index\t End index\n",
      "231 \t\t 255 \t\t 25 K\n"
     ]
    }
   ],
   "source": [
    "MMU.get_memory_status() # to get the snapshot of current memory status"
   ]
  },
  {
   "cell_type": "markdown",
   "id": "c752869d",
   "metadata": {},
   "source": [
    "## 2. Memory Deallocation\n",
    "Deallocates process from the memory"
   ]
  },
  {
   "cell_type": "code",
   "execution_count": 39,
   "id": "a74f5e24",
   "metadata": {},
   "outputs": [
    {
     "name": "stdout",
     "output_type": "stream",
     "text": [
      "Process:  P5023  is deallocated successfully\n",
      "Process:  P2656  is deallocated successfully\n",
      "Process:  P9560  is deallocated successfully\n"
     ]
    }
   ],
   "source": [
    "for i in range(3): # deallocating N random process from the memory\n",
    "    \n",
    "    p = random.randint(0,len(MMU.allocated_memory)-1)\n",
    "    MMU.deallocate_process(list(MMU.allocated_memory.keys())[p])"
   ]
  },
  {
   "cell_type": "markdown",
   "id": "777ca747",
   "metadata": {},
   "source": [
    "You can also manually deallocate the process by puting the process id in below function. (process ID is in string format)"
   ]
  },
  {
   "cell_type": "code",
   "execution_count": 40,
   "id": "6fc4c049",
   "metadata": {},
   "outputs": [],
   "source": [
    "# MMU.deallocate_process(\"<processID>\")"
   ]
  },
  {
   "cell_type": "code",
   "execution_count": 41,
   "id": "211607dc",
   "metadata": {},
   "outputs": [
    {
     "name": "stdout",
     "output_type": "stream",
     "text": [
      "Current process queue:\n",
      "('P6689', 68) ('P9514', 57) ('P5640', 45) \n",
      "\n",
      "Memory:\n",
      "|0 |0 |0 |0 |0 |0 |0 |0 |0 |0 |0 |0 |0 |0 |0 |0 |0 |0 |0 |0 |0 |0 |0 |0 |0 |0 |0 |0 |0 |0 |0 |0 |0 |0 |0 |0 |0 |0 |0 |0 |0 |0 |0 |0 |0 |0 |0 |0 |0 |0 |0 |0 |0 |0 |0 |0 |0 |0 |0 |0 |0 |P7711 |P7711 |P7711 |P7711 |P7711 |P7711 |P7711 |P7711 |P7711 |P7711 |P7711 |P7711 |P7711 |P7711 |P7711 |P7711 |P7711 |P7711 |P7711 |P7711 |P7711 |P7711 |P7711 |P7711 |P7711 |P7711 |P7711 |P7711 |P7711 |P7711 |P7711 |P7711 |P7711 |P7711 |P7711 |P7711 |P7711 |P7711 |P7711 |P7711 |P7711 |P7711 |P7711 |P7711 |P7711 |P7711 |P7711 |P7711 |P7711 |P7711 |P7711 |P7711 |P7711 |P7711 |P7711 |P7711 |P7711 |P7711 |P7711 |P7711 |P7711 |P7711 |P7711 |P7711 |P7711 |P7711 |P7711 |P7711 |P7711 |P7711 |P7711 |P7711 |P7711 |P7711 |P7711 |P7711 |P7711 |P7711 |P7711 |P7711 |P7711 |P7711 |P7711 |P5160 |P5160 |P5160 |P5160 |P5160 |P5160 |P5160 |P5160 |P5160 |P5160 |P5160 |P5160 |P5160 |P5160 |P5160 |P5160 |P5160 |P5160 |P5160 |P5160 |P5160 |P5160 |P5160 |P5160 |P5160 |P5160 |P5160 |P5160 |P5160 |P5160 |P5160 |P5160 |P5160 |P5160 |P5160 |P5160 |P5160 |P5160 |P5160 |P5160 |P5160 |P5160 |P5160 |P5160 |P5160 |P5160 |P5160 |P5160 |P5160 |P5160 |P5160 |P5160 |P5160 |P5160 |P5160 |P5160 |P5160 |P5160 |P5160 |P5160 |P5160 |P5160 |P5160 |P5160 |P5160 |P5160 |0 |0 |0 |0 |0 |0 |0 |0 |0 |0 |0 |0 |0 |0 |0 |0 |0 |0 |0 |0 |0 |0 |0 |0 |0 |0 |0 |0 |0 |0 |0 |0 |0 |0 |0 |0 |0 |0 |0 |0 |0 |0 |0 |0 |0 |0 |\n",
      "\n",
      "Allocated memory: \n",
      "Process ID\t Start index\t End index\t Size\n",
      "P7711 \t\t 61 \t\t 143 \t\t 83 K\n",
      "P5160 \t\t 144 \t\t 209 \t\t 66 K\n",
      "\n",
      "\n",
      "Free memory: \n",
      "Start index\t End index\n",
      "0 \t\t 60 \t\t 61 K\n",
      "210 \t\t 255 \t\t 46 K\n"
     ]
    }
   ],
   "source": [
    "MMU.get_memory_status() # to get the snapshot of current memory status"
   ]
  },
  {
   "cell_type": "markdown",
   "id": "b20a8d83",
   "metadata": {},
   "source": [
    "## 3. Memory Defragmentation"
   ]
  },
  {
   "cell_type": "markdown",
   "id": "3082320c",
   "metadata": {},
   "source": [
    "Perform memeory defragmentation algorithm and merge together all the free chunks of memory"
   ]
  },
  {
   "cell_type": "code",
   "execution_count": 42,
   "id": "56c286ac",
   "metadata": {},
   "outputs": [
    {
     "name": "stdout",
     "output_type": "stream",
     "text": [
      "Defragmentation is performed successfully...!\n",
      "\n",
      "Continuous free space created:  108\n"
     ]
    }
   ],
   "source": [
    "MMU.defragment()"
   ]
  },
  {
   "cell_type": "code",
   "execution_count": 43,
   "id": "84683616",
   "metadata": {},
   "outputs": [
    {
     "name": "stdout",
     "output_type": "stream",
     "text": [
      "Current process queue:\n",
      "('P6689', 68) ('P9514', 57) ('P5640', 45) \n",
      "\n",
      "Memory:\n",
      "|P7711 |P7711 |P7711 |P7711 |P7711 |P7711 |P7711 |P7711 |P7711 |P7711 |P7711 |P7711 |P7711 |P7711 |P7711 |P7711 |P7711 |P7711 |P7711 |P7711 |P7711 |P7711 |P7711 |P7711 |P7711 |P7711 |P7711 |P7711 |P7711 |P7711 |P7711 |P7711 |P7711 |P7711 |P7711 |P7711 |P7711 |P7711 |P7711 |P7711 |P7711 |P7711 |P7711 |P7711 |P7711 |P7711 |P7711 |P7711 |P7711 |P7711 |P7711 |P7711 |P7711 |P7711 |P7711 |P7711 |P7711 |P7711 |P7711 |P7711 |P7711 |P7711 |P7711 |P7711 |P7711 |P7711 |P7711 |P7711 |P7711 |P7711 |P7711 |P7711 |P7711 |P7711 |P7711 |P7711 |P7711 |P7711 |P7711 |P7711 |P7711 |P7711 |P7711 |P5160 |P5160 |P5160 |P5160 |P5160 |P5160 |P5160 |P5160 |P5160 |P5160 |P5160 |P5160 |P5160 |P5160 |P5160 |P5160 |P5160 |P5160 |P5160 |P5160 |P5160 |P5160 |P5160 |P5160 |P5160 |P5160 |P5160 |P5160 |P5160 |P5160 |P5160 |P5160 |P5160 |P5160 |P5160 |P5160 |P5160 |P5160 |P5160 |P5160 |P5160 |P5160 |P5160 |P5160 |P5160 |P5160 |P5160 |P5160 |P5160 |P5160 |P5160 |P5160 |P5160 |P5160 |P5160 |P5160 |P5160 |P5160 |P5160 |P5160 |P5160 |P5160 |P5160 |P5160 |P5160 |P5160 |0 |0 |0 |0 |0 |0 |0 |0 |0 |0 |0 |0 |0 |0 |0 |0 |0 |0 |0 |0 |0 |0 |0 |0 |0 |0 |0 |0 |0 |0 |0 |0 |0 |0 |0 |0 |0 |0 |0 |0 |0 |0 |0 |0 |0 |0 |0 |0 |0 |0 |0 |0 |0 |0 |0 |0 |0 |0 |0 |0 |0 |0 |0 |0 |0 |0 |0 |0 |0 |0 |0 |0 |0 |0 |0 |0 |0 |0 |0 |0 |0 |0 |0 |0 |0 |0 |0 |0 |0 |0 |0 |0 |0 |0 |0 |0 |0 |0 |0 |0 |0 |0 |0 |0 |0 |0 |0 |\n",
      "\n",
      "Allocated memory: \n",
      "Process ID\t Start index\t End index\t Size\n",
      "P7711 \t\t 0 \t\t 82 \t\t 83 K\n",
      "P5160 \t\t 83 \t\t 148 \t\t 66 K\n",
      "\n",
      "\n",
      "Free memory: \n",
      "Start index\t End index\n",
      "149 \t\t 255 \t\t 107 K\n"
     ]
    }
   ],
   "source": [
    "MMU.get_memory_status()"
   ]
  },
  {
   "cell_type": "markdown",
   "id": "3675bf25",
   "metadata": {},
   "source": [
    "#### Perform memory allocation for the processes in the queue after defragmentation"
   ]
  },
  {
   "cell_type": "code",
   "execution_count": 44,
   "id": "ed4d9a75",
   "metadata": {
    "scrolled": true
   },
   "outputs": [
    {
     "name": "stdout",
     "output_type": "stream",
     "text": [
      "1  process(es) out of  3  are allocated into the memory successfully\n",
      "\n",
      "Current process queue:\n",
      "('P9514', 57) ('P5640', 45) \n",
      "\n"
     ]
    }
   ],
   "source": [
    "MMU.process_allocation() # Allocates the process in the memory"
   ]
  },
  {
   "cell_type": "code",
   "execution_count": 45,
   "id": "2329d1c4",
   "metadata": {},
   "outputs": [
    {
     "name": "stdout",
     "output_type": "stream",
     "text": [
      "Current process queue:\n",
      "('P9514', 57) ('P5640', 45) \n",
      "\n",
      "Memory:\n",
      "|P7711 |P7711 |P7711 |P7711 |P7711 |P7711 |P7711 |P7711 |P7711 |P7711 |P7711 |P7711 |P7711 |P7711 |P7711 |P7711 |P7711 |P7711 |P7711 |P7711 |P7711 |P7711 |P7711 |P7711 |P7711 |P7711 |P7711 |P7711 |P7711 |P7711 |P7711 |P7711 |P7711 |P7711 |P7711 |P7711 |P7711 |P7711 |P7711 |P7711 |P7711 |P7711 |P7711 |P7711 |P7711 |P7711 |P7711 |P7711 |P7711 |P7711 |P7711 |P7711 |P7711 |P7711 |P7711 |P7711 |P7711 |P7711 |P7711 |P7711 |P7711 |P7711 |P7711 |P7711 |P7711 |P7711 |P7711 |P7711 |P7711 |P7711 |P7711 |P7711 |P7711 |P7711 |P7711 |P7711 |P7711 |P7711 |P7711 |P7711 |P7711 |P7711 |P7711 |P5160 |P5160 |P5160 |P5160 |P5160 |P5160 |P5160 |P5160 |P5160 |P5160 |P5160 |P5160 |P5160 |P5160 |P5160 |P5160 |P5160 |P5160 |P5160 |P5160 |P5160 |P5160 |P5160 |P5160 |P5160 |P5160 |P5160 |P5160 |P5160 |P5160 |P5160 |P5160 |P5160 |P5160 |P5160 |P5160 |P5160 |P5160 |P5160 |P5160 |P5160 |P5160 |P5160 |P5160 |P5160 |P5160 |P5160 |P5160 |P5160 |P5160 |P5160 |P5160 |P5160 |P5160 |P5160 |P5160 |P5160 |P5160 |P5160 |P5160 |P5160 |P5160 |P5160 |P5160 |P5160 |P5160 |P6689 |P6689 |P6689 |P6689 |P6689 |P6689 |P6689 |P6689 |P6689 |P6689 |P6689 |P6689 |P6689 |P6689 |P6689 |P6689 |P6689 |P6689 |P6689 |P6689 |P6689 |P6689 |P6689 |P6689 |P6689 |P6689 |P6689 |P6689 |P6689 |P6689 |P6689 |P6689 |P6689 |P6689 |P6689 |P6689 |P6689 |P6689 |P6689 |P6689 |P6689 |P6689 |P6689 |P6689 |P6689 |P6689 |P6689 |P6689 |P6689 |P6689 |P6689 |P6689 |P6689 |P6689 |P6689 |P6689 |P6689 |P6689 |P6689 |P6689 |P6689 |P6689 |P6689 |P6689 |P6689 |P6689 |P6689 |P6689 |0 |0 |0 |0 |0 |0 |0 |0 |0 |0 |0 |0 |0 |0 |0 |0 |0 |0 |0 |0 |0 |0 |0 |0 |0 |0 |0 |0 |0 |0 |0 |0 |0 |0 |0 |0 |0 |0 |0 |\n",
      "\n",
      "Allocated memory: \n",
      "Process ID\t Start index\t End index\t Size\n",
      "P7711 \t\t 0 \t\t 82 \t\t 83 K\n",
      "P5160 \t\t 83 \t\t 148 \t\t 66 K\n",
      "P6689 \t\t 149 \t\t 216 \t\t 68 K\n",
      "\n",
      "\n",
      "Free memory: \n",
      "Start index\t End index\n",
      "217 \t\t 255 \t\t 39 K\n"
     ]
    }
   ],
   "source": [
    "MMU.get_memory_status()"
   ]
  },
  {
   "cell_type": "code",
   "execution_count": null,
   "id": "f70e86e2",
   "metadata": {},
   "outputs": [],
   "source": []
  }
 ],
 "metadata": {
  "kernelspec": {
   "display_name": "Python 3 (ipykernel)",
   "language": "python",
   "name": "python3"
  },
  "language_info": {
   "codemirror_mode": {
    "name": "ipython",
    "version": 3
   },
   "file_extension": ".py",
   "mimetype": "text/x-python",
   "name": "python",
   "nbconvert_exporter": "python",
   "pygments_lexer": "ipython3",
   "version": "3.9.7"
  }
 },
 "nbformat": 4,
 "nbformat_minor": 5
}
